{
 "cells": [
  {
   "cell_type": "code",
   "execution_count": 1,
   "metadata": {},
   "outputs": [
    {
     "name": "stdout",
     "output_type": "stream",
     "text": [
      "Requirement already satisfied: pywin32 in c:\\users\\eului\\anaconda3\\lib\\site-packages (305.1)\n"
     ]
    }
   ],
   "source": [
    "!pip install pywin32"
   ]
  },
  {
   "cell_type": "markdown",
   "metadata": {},
   "source": [
    "# # Don't forget to select a standard pdf reader before execute this program."
   ]
  },
  {
   "cell_type": "code",
   "execution_count": 1,
   "metadata": {},
   "outputs": [],
   "source": [
    "import win32print\n",
    "import win32api\n",
    "import os"
   ]
  },
  {
   "cell_type": "code",
   "execution_count": 2,
   "metadata": {},
   "outputs": [],
   "source": [
    "#choose the printer\n",
    "printer_list = win32print.EnumPrinters(2)\n",
    "printer = lista_impressoras[1]\n",
    "\n",
    "#for printer in printer_list:\n",
    " #   print(printer)\n",
    "\n",
    "\n",
    "win32print.SetDefaultPrinter(printer[2]) # number of the printer"
   ]
  },
  {
   "cell_type": "code",
   "execution_count": 3,
   "metadata": {},
   "outputs": [
    {
     "name": "stdout",
     "output_type": "stream",
     "text": [
      "['livrinho.pdf', 'nota_fiscal.pdf.pdf']\n"
     ]
    }
   ],
   "source": [
    "#print some file\n",
    "path = \"\" # <- Configure\n",
    "files_list = os.listdir(path)\n",
    "#files_list = os.listdir(\"files\")\n",
    "\n",
    "print(lista_arquivos)"
   ]
  },
  {
   "cell_type": "code",
   "execution_count": 4,
   "metadata": {},
   "outputs": [],
   "source": [
    "for file in files_list:\n",
    "    win32api.ShellExecute(0, \"print\", file, None, path, 0)"
   ]
  }
 ],
 "metadata": {
  "kernelspec": {
   "display_name": "base",
   "language": "python",
   "name": "python3"
  },
  "language_info": {
   "codemirror_mode": {
    "name": "ipython",
    "version": 3
   },
   "file_extension": ".py",
   "mimetype": "text/x-python",
   "name": "python",
   "nbconvert_exporter": "python",
   "pygments_lexer": "ipython3",
   "version": "3.10.9"
  }
 },
 "nbformat": 4,
 "nbformat_minor": 2
}
